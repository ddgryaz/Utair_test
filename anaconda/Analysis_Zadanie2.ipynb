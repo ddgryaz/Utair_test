{
 "cells": [
  {
   "cell_type": "code",
   "execution_count": 1,
   "metadata": {},
   "outputs": [],
   "source": [
    "import pandas as pd\n",
    "import re\n",
    "\n",
    "data2 = pd.read_excel('data_zadanie2.xlsx', index_col=None, usecols='A, B').to_dict()"
   ]
  },
  {
   "cell_type": "code",
   "execution_count": 2,
   "metadata": {},
   "outputs": [],
   "source": [
    "#data2"
   ]
  },
  {
   "cell_type": "code",
   "execution_count": 3,
   "metadata": {},
   "outputs": [],
   "source": [
    "number_uiks = data2['№ УИКа']\n",
    "proccents = data2['% за КПРФ']\n",
    "need_list = list(zip(number_uiks.values(), proccents.values()))\n",
    "kprf_true = []\n",
    "kprf_false = []"
   ]
  },
  {
   "cell_type": "code",
   "execution_count": 4,
   "metadata": {},
   "outputs": [],
   "source": [
    "excel = pd.read_excel('data_krasnodar.xlsx', index_col=None, usecols='A, C').to_dict()\n",
    "pattern = re.compile('КОММУНИСТИЧЕСКАЯ ПАРТИЯ РОССИЙСКОЙ ФЕДЕРАЦИИ')\n",
    "who_proposed_commisions = excel['Кем предложен в состав комиссии']\n",
    "comissions_number = excel['Участковая избирательная комиссия №']\n",
    "commisions = list(zip(who_proposed_commisions.values(), comissions_number.values()))\n",
    "wick_successfully = []\n",
    "wick_not_successfylly = []\n"
   ]
  },
  {
   "cell_type": "code",
   "execution_count": 5,
   "metadata": {},
   "outputs": [],
   "source": [
    "for commision, comission_number in commisions:\n",
    "    if not pattern.search(commision):\n",
    "        wick_successfully.append(comission_number)\n",
    "    else:\n",
    "        wick_not_successfylly.append(comission_number)"
   ]
  },
  {
   "cell_type": "code",
   "execution_count": 6,
   "metadata": {},
   "outputs": [],
   "source": [
    "wick_successfully = [x for x in wick_successfully if x not in wick_not_successfylly]"
   ]
  },
  {
   "cell_type": "code",
   "execution_count": 7,
   "metadata": {},
   "outputs": [],
   "source": [
    "woduplicates = list(set(list(wick_successfully))) \n",
    "#print(woduplicates)"
   ]
  },
  {
   "cell_type": "code",
   "execution_count": 8,
   "metadata": {},
   "outputs": [],
   "source": [
    "for number_uik, proccent in need_list:\n",
    "    if number_uik in woduplicates:\n",
    "        kprf_false.append(proccent)\n",
    "    else:\n",
    "        kprf_true.append(proccent)"
   ]
  },
  {
   "cell_type": "code",
   "execution_count": 9,
   "metadata": {},
   "outputs": [],
   "source": [
    "#print(kprf_false)"
   ]
  },
  {
   "cell_type": "code",
   "execution_count": 10,
   "metadata": {},
   "outputs": [],
   "source": [
    "#print(kprf_true)"
   ]
  },
  {
   "cell_type": "code",
   "execution_count": 11,
   "metadata": {},
   "outputs": [],
   "source": [
    "#print(len(kprf_false))\n",
    "#print(len(kprf_true))"
   ]
  },
  {
   "cell_type": "code",
   "execution_count": 12,
   "metadata": {},
   "outputs": [],
   "source": [
    "srp_kprf_t = ((sum(kprf_true)/len(kprf_true)))\n",
    "srp_kprf_f =((sum(kprf_false)/len(kprf_false)))\n",
    "delta = srp_kprf_t - srp_kprf_f"
   ]
  },
  {
   "cell_type": "code",
   "execution_count": 13,
   "metadata": {},
   "outputs": [
    {
     "name": "stdout",
     "output_type": "stream",
     "text": [
      "Средний процент, где в составе комиссии был представитель КПРФ: 23.334012539184954\n",
      "Средний процент, где в составе комиссии НЕ было представитель КПРФ: 21.195428571428575\n",
      "Разница между ними: 2.1385839677563787\n"
     ]
    }
   ],
   "source": [
    "print('Средний процент, где в составе комиссии был представитель КПРФ: ' + str(srp_kprf_t))\n",
    "print('Средний процент, где в составе комиссии НЕ было представитель КПРФ: ' + str(srp_kprf_f))\n",
    "print('Разница между ними: ' + str(delta))"
   ]
  },
  {
   "cell_type": "code",
   "execution_count": null,
   "metadata": {},
   "outputs": [],
   "source": []
  }
 ],
 "metadata": {
  "kernelspec": {
   "display_name": "Python 3",
   "language": "python",
   "name": "python3"
  },
  "language_info": {
   "codemirror_mode": {
    "name": "ipython",
    "version": 3
   },
   "file_extension": ".py",
   "mimetype": "text/x-python",
   "name": "python",
   "nbconvert_exporter": "python",
   "pygments_lexer": "ipython3",
   "version": "3.8.5"
  }
 },
 "nbformat": 4,
 "nbformat_minor": 4
}
