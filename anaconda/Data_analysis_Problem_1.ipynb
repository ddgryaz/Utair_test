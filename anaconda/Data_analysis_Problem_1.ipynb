{
 "cells": [
  {
   "cell_type": "code",
   "execution_count": 1,
   "metadata": {},
   "outputs": [],
   "source": [
    "import pandas as pd\n",
    "import re\n",
    "\n",
    "excel = pd.read_excel('data_krasnodar.xlsx', index_col=None, usecols='A, C').to_dict()\n",
    "pattern = re.compile('КОММУНИСТИЧЕСКАЯ ПАРТИЯ РОССИЙСКОЙ ФЕДЕРАЦИИ')\n",
    "who_proposed_commisions = excel['Кем предложен в состав комиссии']\n",
    "comissions_number = excel['Участковая избирательная комиссия №']\n",
    "commisions = list(zip(who_proposed_commisions.values(), comissions_number.values()))\n",
    "wick_successfully = []\n",
    "wick_not_successfylly = []\n"
   ]
  },
  {
   "cell_type": "code",
   "execution_count": 2,
   "metadata": {},
   "outputs": [],
   "source": [
    "for commision, comission_number in commisions:\n",
    "    if not pattern.search(commision):\n",
    "        wick_successfully.append(comission_number)\n",
    "    else:\n",
    "        wick_not_successfylly.append(comission_number)"
   ]
  },
  {
   "cell_type": "code",
   "execution_count": 3,
   "metadata": {},
   "outputs": [],
   "source": [
    "wick_successfully = [x for x in wick_successfully if x not in wick_not_successfylly]\n"
   ]
  },
  {
   "cell_type": "code",
   "execution_count": 4,
   "metadata": {},
   "outputs": [],
   "source": [
    "#print(list(wick_successfully))"
   ]
  },
  {
   "cell_type": "code",
   "execution_count": 5,
   "metadata": {
    "scrolled": true
   },
   "outputs": [],
   "source": [
    "woduplicates = list(set(list(wick_successfully))) \n",
    "#print(woduplicates)"
   ]
  },
  {
   "cell_type": "code",
   "execution_count": 6,
   "metadata": {},
   "outputs": [
    {
     "name": "stdout",
     "output_type": "stream",
     "text": [
      "2004, 2007, 2018, 2021, 2026, 2034, 2101, 2126, 2174, 2180, 2239, 2263, 2264, 2266, 6011, 6012, 6013, 6021, 6031, 6034, 6036, 6037, 6049, 6052, 6053, 6054, 6055, 6056, 6057, 6058, 6060, 6063, 6064, 6065, 6066\n"
     ]
    }
   ],
   "source": [
    "woduplicates.sort()\n",
    "print(\", \".join(map(str, woduplicates)))"
   ]
  }
 ],
 "metadata": {
  "kernelspec": {
   "display_name": "Python 3",
   "language": "python",
   "name": "python3"
  },
  "language_info": {
   "codemirror_mode": {
    "name": "ipython",
    "version": 3
   },
   "file_extension": ".py",
   "mimetype": "text/x-python",
   "name": "python",
   "nbconvert_exporter": "python",
   "pygments_lexer": "ipython3",
   "version": "3.8.5"
  }
 },
 "nbformat": 4,
 "nbformat_minor": 4
}
